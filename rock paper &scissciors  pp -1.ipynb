{
 "cells": [
  {
   "cell_type": "markdown",
   "id": "e79b6e33",
   "metadata": {},
   "source": [
    "PYTHON PROJECT -1 ROCK PAPERS AND SCISSCIORS"
   ]
  },
  {
   "cell_type": "code",
   "execution_count": 2,
   "id": "84a2518a",
   "metadata": {},
   "outputs": [
    {
     "name": "stdout",
     "output_type": "stream",
     "text": [
      "Paper 📄\n",
      "Computer Chose:\n",
      "Rock 🪨\n",
      "You win.\n"
     ]
    }
   ],
   "source": [
    "import random\n",
    "\n",
    "rock = \"Rock 🪨\"\n",
    "paper = \"Paper 📄\"\n",
    "scissors = \"Scissors ✂️\"\n",
    "\n",
    "game_images = [rock, paper, scissors]\n",
    "\n",
    "user_choice = int(input(\"Enter your Choice: Type 0 for Rock, 1 for Paper, 2 for Scissors:\"))\n",
    "if user_choice > 2 or user_choice < 0:\n",
    "    print(\"You entered invalid number, You lose.\")\n",
    "else:\n",
    "    print(game_images[user_choice])\n",
    "    computer_choice = random.randint(0,2)\n",
    "    print(\"Computer Chose:\")\n",
    "    print(game_images[computer_choice])\n",
    "    if computer_choice == user_choice:\n",
    "        print(\"It's a draw.\")\n",
    "    elif computer_choice == 0 and user_choice == 2:\n",
    "        print(\"You lose\")\n",
    "    elif user_choice == 0 and computer_choice == 2:\n",
    "        print(\"You win.\")\n",
    "    elif computer_choice > user_choice: #2 > 0\n",
    "        print(\"You lose.\")\n",
    "    elif user_choice > computer_choice: #2 > 1\n",
    "        print(\"You win.\")\n",
    "\n",
    "\n"
   ]
  }
 ],
 "metadata": {
  "kernelspec": {
   "display_name": "Python 3",
   "language": "python",
   "name": "python3"
  },
  "language_info": {
   "codemirror_mode": {
    "name": "ipython",
    "version": 3
   },
   "file_extension": ".py",
   "mimetype": "text/x-python",
   "name": "python",
   "nbconvert_exporter": "python",
   "pygments_lexer": "ipython3",
   "version": "3.13.7"
  }
 },
 "nbformat": 4,
 "nbformat_minor": 5
}
